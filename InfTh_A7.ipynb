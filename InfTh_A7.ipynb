{
  "nbformat": 4,
  "nbformat_minor": 0,
  "metadata": {
    "colab": {
      "name": "InfTh A7.ipynb",
      "provenance": [],
      "collapsed_sections": []
    },
    "kernelspec": {
      "name": "python3",
      "display_name": "Python 3"
    },
    "language_info": {
      "name": "python"
    }
  },
  "cells": [
    {
      "cell_type": "markdown",
      "metadata": {
        "id": "bYrrVnj4w7aH"
      },
      "source": [
        "## Assignment 7: Hamming Decode\n",
        "## Members: Akbota Yelemessova & Akniyet Maratova \n",
        "### Group: BDA-1904"
      ]
    },
    {
      "cell_type": "markdown",
      "metadata": {
        "id": "Pr6plZuNxidO"
      },
      "source": [
        "#### Decoding (15, 11)"
      ]
    },
    {
      "cell_type": "code",
      "metadata": {
        "colab": {
          "base_uri": "https://localhost:8080/"
        },
        "id": "Nre3TMWzxQR0",
        "outputId": "b260765a-06ca-4dee-f44b-8bb650d8a60d"
      },
      "source": [
        "#Step 1\n",
        "with open('encoded_sequence_1511.txt', encoding=\"utf8\") as file:\n",
        "    encod1511 = file.read()\n",
        "print(f'Original file: {encod1511}')\n",
        "# dividing into data blocks 16 bits each\n",
        "n = 16\n",
        "blocks = [encod1511[i:i+n] for i in range(0, len(encod1511), n)]\n",
        "# output each data block \n",
        "print('Initial blocks:' )\n",
        "i=1\n",
        "for data in blocks:\n",
        "  print(f'b{i}: {data}')\n",
        "  i+=1"
      ],
      "execution_count": 48,
      "outputs": [
        {
          "output_type": "stream",
          "text": [
            "Original file: 0100101111011101110111010100101111111010000001010111110110110001\n",
            "Initial blocks:\n",
            "b1: 0100101111011101\n",
            "b2: 1101110101001011\n",
            "b3: 1111101000000101\n",
            "b4: 0111110110110001\n"
          ],
          "name": "stdout"
        }
      ]
    },
    {
      "cell_type": "code",
      "metadata": {
        "colab": {
          "base_uri": "https://localhost:8080/"
        },
        "id": "KSqYwJF5y5d1",
        "outputId": "3b9854ec-aa77-4f26-def7-27e0281948eb"
      },
      "source": [
        "#Step 2\n",
        "import random\n",
        "i = 0\n",
        "for data in blocks:\n",
        "  i+=1\n",
        "num_bl = round((i*50)/100)\n",
        "print(num_bl)\n",
        "n = 0\n",
        "print(f'Blocks with errors:')\n",
        "for values in blocks:\n",
        "  #random block\n",
        "  rand_numb = random.randint(0, len(blocks)-1)\n",
        "  n += 1\n",
        "  if n == num_bl+1:\n",
        "    break\n",
        "  else:\n",
        "    # random position of bit\n",
        "    rand_bit = random.randint(0, 15)\n",
        "    val = blocks[rand_numb]\n",
        "    val = [int(digit, 16) for digit in val]\n",
        "    val[rand_bit] = val[rand_bit] ^ 1\n",
        "    #convert to str by joinig ints\n",
        "    val_str = ''.join(map(str, val))\n",
        "    blocks[rand_numb] = val_str\n",
        "    print(f'b{rand_numb+1}:{blocks[rand_numb]}, position:{rand_bit}' )\n"
      ],
      "execution_count": 49,
      "outputs": [
        {
          "output_type": "stream",
          "text": [
            "2\n",
            "Blocks with errors:\n",
            "b3:1111101001000101, position:9\n",
            "b1:0100100111011101, position:6\n"
          ],
          "name": "stdout"
        }
      ]
    },
    {
      "cell_type": "code",
      "metadata": {
        "id": "z6Oye5qPYqUw"
      },
      "source": [
        "# Step 3\n",
        "def HammingDecode(bitstring):\n",
        "  # Get data bits\n",
        "  n = 1\n",
        "  bits = [bitstring[i:i+n] for i in range(0, len(bitstring), n)]\n",
        "  # Converting bits to integer\n",
        "  for i in range(0, len(bits)):\n",
        "    bits[i] = int(bits[i])\n",
        "  tester = ''\n",
        "  # output\n",
        "  print(f'{bitstring}:')\n",
        "  p1 = bits[3]^bits[5]^bits[7]^bits[9]^bits[11]^bits[13]^bits[15]\n",
        "  if p1 == bits[1]:\n",
        "    checker = 'correct'\n",
        "    sym = 'o'\n",
        "  else:\n",
        "    checker = 'incorrect'\n",
        "    sym = 'x'\n",
        "  tester += sym\n",
        "  print(f'p1: b3+b5+b7+b9+b11+b13+b15 = {bits[3]}+{bits[5]}+{bits[7]}+{bits[9]}+{bits[11]}+{bits[13]}+{bits[15]} = {p1} {checker}')\n",
        "\n",
        "  p2 = bits[3]^bits[6]^bits[7]^bits[10]^bits[11]^bits[14]^bits[15]\n",
        "  if p2 == bits[2]:\n",
        "    checker = 'correct'\n",
        "    sym = 'o'\n",
        "  else:\n",
        "    checker = 'incorrect'\n",
        "    sym = 'x'\n",
        "  tester += sym\n",
        "  print(f'p2: b3+b6+b7+b10+b11+b14+b15 = {bits[3]}+{bits[6]}+{bits[7]}+{bits[10]}+{bits[11]}+{bits[14]}+{bits[15]} = {p2}  {checker}')\n",
        "\n",
        "\n",
        "  p4 = bits[5]^bits[6]^bits[7]^bits[12]^bits[13]^bits[14]^bits[15]\n",
        "  if p4 == bits[4]:\n",
        "    checker = 'correct'\n",
        "    sym = 'o'\n",
        "  else:\n",
        "    checker = 'incorrect'\n",
        "    sym = 'x'\n",
        "  tester += sym\n",
        "  print(f'p4: b5+b6+b7+b12+b13+b14+b15 = {bits[5]}+{bits[6]}+{bits[7]}+{bits[12]}+{bits[13]}+{bits[14]}+{bits[15]} = {p4} {checker}')\n",
        "\n",
        "  p8 = bits[9]^bits[10]^bits[11]^bits[12]^bits[13]^bits[14]^bits[15]\n",
        "  if p8 == bits[8]:\n",
        "    checker = 'correct'\n",
        "    sym = 'o'\n",
        "  else:\n",
        "    checker = 'incorrect'\n",
        "    sym = 'x'\n",
        "  tester += sym\n",
        "  print(f'p8: b9+b10+b11+b12+b13+b14+b15 = {bits[9]}+{bits[10]}+{bits[11]}+{bits[12]}+{bits[13]}+{bits[14]}+{bits[15]} = {p8} {checker}')\n",
        "\n",
        "  p0 = bits[1]^bits[2]^bits[3]^bits[4]^bits[5]^bits[6]^bits[7]^bits[8]^bits[9]^bits[10]^bits[11]^bits[12]^bits[13]^bits[14]^bits[15]\n",
        "  if p0 == bits[0]:\n",
        "    checker = 'correct'\n",
        "  else:\n",
        "    checker = 'incorrect'  \n",
        "  print(f'p0: b1+b2+b3+b4+b5+b6+b7+b8+b9+b10+b11+b12+b13+b14+b15 = {bits[1]}+{bits[2]}+{bits[3]}+{bits[4]}+{bits[5]}+{bits[6]}+{bits[7]}+{bits[8]}+{bits[9]}+{bits[10]}+{bits[11]}+{bits[12]}+{bits[13]}+{bits[14]}+{bits[15]} = {p0} {checker}') \n",
        "\n",
        "  # Error detection\n",
        "  final = tester + checker\n",
        "  if final == 'oooocorrect':\n",
        "    print('No error')\n",
        "    \n",
        "  else:\n",
        "    if tester == 'xooo':\n",
        "      pos_no = 1\n",
        "    elif tester == 'oxoo':\n",
        "      pos_no = 2\n",
        "    elif tester == 'ooxo':\n",
        "      pos_no = 4\n",
        "    elif tester == 'ooox':\n",
        "      pos_no = 8\n",
        "    elif tester == 'xxoo':\n",
        "      pos_no = 3\n",
        "    elif tester == 'xoxo':\n",
        "      pos_no = 5\n",
        "    elif tester == 'oxxo':\n",
        "      pos_no = 6\n",
        "    elif tester == 'xxxo':\n",
        "      pos_no = 7\n",
        "    elif tester == 'xoox':\n",
        "      pos_no = 9\n",
        "    elif tester == 'oxox':\n",
        "      pos_no = 10\n",
        "    elif tester == 'xxox':\n",
        "      pos_no = 11\n",
        "    elif tester == 'ooxx':\n",
        "      pos_no = 12\n",
        "    elif tester == 'xoxx':\n",
        "      pos_no = 13\n",
        "    elif tester == 'oxxx':\n",
        "      pos_no = 14\n",
        "    elif tester == 'xxxx':\n",
        "      pos_no = 15\n",
        "    else:\n",
        "      pos_no = 0\n",
        "\n",
        "    print(f'Error in position {pos_no}')\n",
        "    # correcting error\n",
        "    bits[pos_no] = bits[pos_no]^1\n",
        "    corr_bits = ''.join(map(str, bits))\n",
        "    print(f'Corrected bitstring: {corr_bits}')\n",
        "\n",
        "  orig = [bits[3], bits[5], bits[6], bits[7],bits[9], bits[10], bits[11], bits[12], bits[13], bits[14], bits[15]]\n",
        "  decod_str = ''.join(map(str, orig))\n",
        "  print(f'Decoded bitstring: {decod_str}')\n",
        "  return decod_str\n",
        "  "
      ],
      "execution_count": 50,
      "outputs": []
    },
    {
      "cell_type": "code",
      "metadata": {
        "colab": {
          "base_uri": "https://localhost:8080/"
        },
        "id": "b7d5BEuKNlRD",
        "outputId": "a6ee42b1-b358-4520-ce1d-686f9caff721"
      },
      "source": [
        "# Step 4\n",
        "decoded_seq1511 = ''\n",
        "for i in range(0, len(blocks)):\n",
        "  dec1511 = HammingDecode(blocks[i])\n",
        "  decoded_seq1511 = decoded_seq1511 + dec1511\n",
        "  print('----------')"
      ],
      "execution_count": 51,
      "outputs": [
        {
          "output_type": "stream",
          "text": [
            "0100100111011101:\n",
            "p1: b3+b5+b7+b9+b11+b13+b15 = 0+0+1+1+1+1+1 = 1 correct\n",
            "p2: b3+b6+b7+b10+b11+b14+b15 = 0+0+1+0+1+0+1 = 1  incorrect\n",
            "p4: b5+b6+b7+b12+b13+b14+b15 = 0+0+1+1+1+0+1 = 0 incorrect\n",
            "p8: b9+b10+b11+b12+b13+b14+b15 = 1+0+1+1+1+0+1 = 1 correct\n",
            "p0: b1+b2+b3+b4+b5+b6+b7+b8+b9+b10+b11+b12+b13+b14+b15 = 1+0+0+1+0+0+1+1+1+0+1+1+1+0+1 = 1 incorrect\n",
            "Error in position 6\n",
            "Corrected bitstring: 0100101111011101\n",
            "Decoded bitstring: 00111011101\n",
            "----------\n",
            "1101110101001011:\n",
            "p1: b3+b5+b7+b9+b11+b13+b15 = 1+1+1+1+0+0+1 = 1 correct\n",
            "p2: b3+b6+b7+b10+b11+b14+b15 = 1+0+1+0+0+1+1 = 0  correct\n",
            "p4: b5+b6+b7+b12+b13+b14+b15 = 1+0+1+1+0+1+1 = 1 correct\n",
            "p8: b9+b10+b11+b12+b13+b14+b15 = 1+0+0+1+0+1+1 = 0 correct\n",
            "p0: b1+b2+b3+b4+b5+b6+b7+b8+b9+b10+b11+b12+b13+b14+b15 = 1+0+1+1+1+0+1+0+1+0+0+1+0+1+1 = 1 correct\n",
            "No error\n",
            "Decoded bitstring: 11011001011\n",
            "----------\n",
            "1111101001000101:\n",
            "p1: b3+b5+b7+b9+b11+b13+b15 = 1+0+0+1+0+1+1 = 0 incorrect\n",
            "p2: b3+b6+b7+b10+b11+b14+b15 = 1+1+0+0+0+0+1 = 1  correct\n",
            "p4: b5+b6+b7+b12+b13+b14+b15 = 0+1+0+0+1+0+1 = 1 correct\n",
            "p8: b9+b10+b11+b12+b13+b14+b15 = 1+0+0+0+1+0+1 = 1 incorrect\n",
            "p0: b1+b2+b3+b4+b5+b6+b7+b8+b9+b10+b11+b12+b13+b14+b15 = 1+1+1+1+0+1+0+0+1+0+0+0+1+0+1 = 0 incorrect\n",
            "Error in position 9\n",
            "Corrected bitstring: 1111101000000101\n",
            "Decoded bitstring: 10100000101\n",
            "----------\n",
            "0111110110110001:\n",
            "p1: b3+b5+b7+b9+b11+b13+b15 = 1+1+1+0+1+0+1 = 1 correct\n",
            "p2: b3+b6+b7+b10+b11+b14+b15 = 1+0+1+1+1+0+1 = 1  correct\n",
            "p4: b5+b6+b7+b12+b13+b14+b15 = 1+0+1+0+0+0+1 = 1 correct\n",
            "p8: b9+b10+b11+b12+b13+b14+b15 = 0+1+1+0+0+0+1 = 1 correct\n",
            "p0: b1+b2+b3+b4+b5+b6+b7+b8+b9+b10+b11+b12+b13+b14+b15 = 1+1+1+1+1+0+1+1+0+1+1+0+0+0+1 = 0 correct\n",
            "No error\n",
            "Decoded bitstring: 11010110001\n",
            "----------\n"
          ],
          "name": "stdout"
        }
      ]
    },
    {
      "cell_type": "code",
      "metadata": {
        "colab": {
          "base_uri": "https://localhost:8080/"
        },
        "id": "q1MUCspa-mC7",
        "outputId": "5bd78891-2588-4a85-c0be-7e3a3b392e9c"
      },
      "source": [
        "print(f'Decoded sequence: {decoded_seq1511}')\n",
        "# open and read txt file\n",
        "with open('compressed.txt', encoding=\"utf8\") as file:\n",
        "    compr = file.read()\n",
        "print(f'Original: {compr}')\n",
        "\n",
        "if compr == decoded_seq1511:\n",
        "  print('They match')\n",
        "else:\n",
        "  print('Do not match')"
      ],
      "execution_count": 52,
      "outputs": [
        {
          "output_type": "stream",
          "text": [
            "Decoded sequence: 00111011101110110010111010000010111010110001\n",
            "Original: 00111011101110110010111010000010111010110001\n",
            "They match\n"
          ],
          "name": "stdout"
        }
      ]
    },
    {
      "cell_type": "markdown",
      "metadata": {
        "id": "MMQDBD2EkAN5"
      },
      "source": [
        "#### Decoding (7, 4)"
      ]
    },
    {
      "cell_type": "code",
      "metadata": {
        "colab": {
          "base_uri": "https://localhost:8080/"
        },
        "id": "yoOTAS06kCmp",
        "outputId": "9603b3fd-375e-4249-a6e1-922886c8b61a"
      },
      "source": [
        "#Step 1\n",
        "with open('encoded_sequence_74.txt', encoding=\"utf8\") as file:\n",
        "    decod74 = file.read()\n",
        "print(f'Original file: {decod74}')\n",
        "# dividing into data blocks 16 bits each\n",
        "n = 8\n",
        "blocks4 = [decod74[i:i+n] for i in range(0, len(decod74), n)]\n",
        "# output each data block \n",
        "print('Initial blocks:' )\n",
        "i=1\n",
        "for block in blocks4:\n",
        "  print(f'b{i}: {block}')\n",
        "  i+=1"
      ],
      "execution_count": 39,
      "outputs": [
        {
          "output_type": "stream",
          "text": [
            "Original file: 1100001100110011001100110011001110101010100101101111000010101010100101100011001101101001\n",
            "Initial blocks:\n",
            "b1: 11000011\n",
            "b2: 00110011\n",
            "b3: 00110011\n",
            "b4: 00110011\n",
            "b5: 10101010\n",
            "b6: 10010110\n",
            "b7: 11110000\n",
            "b8: 10101010\n",
            "b9: 10010110\n",
            "b10: 00110011\n",
            "b11: 01101001\n"
          ],
          "name": "stdout"
        }
      ]
    },
    {
      "cell_type": "code",
      "metadata": {
        "colab": {
          "base_uri": "https://localhost:8080/"
        },
        "id": "FRagt9bwkGUi",
        "outputId": "12e3f89f-6c98-47f2-a5c1-a0220fa62fae"
      },
      "source": [
        "#Step 2\n",
        "import random\n",
        "i = 0\n",
        "for block in blocks4:\n",
        "  i+=1\n",
        "num_blk = round((i*30)/100)\n",
        "n = 0\n",
        "print(f'Blocks with errors:')\n",
        "for b in blocks4:\n",
        "  # random block\n",
        "  rand_bl = random.randint(0, len(blocks4)-1)\n",
        "  n += 1\n",
        "  if n == num_blk+1:\n",
        "    break\n",
        "  else:\n",
        "    #random position\n",
        "    rand_pos = random.randint(0,7)\n",
        "    #block with error\n",
        "    bl_err = blocks4[rand_bl]\n",
        "    bl_err = [int(digit, 16) for digit in bl_err]\n",
        "    bl_err[rand_pos] = bl_err[rand_pos] ^ 1\n",
        "    #convert to str by joinig ints\n",
        "    bl_str = ''.join(map(str, bl_err))\n",
        "    blocks4[rand_bl] = bl_str\n",
        "    print(f'b{rand_bl+1}:{blocks4[rand_bl]}, position:{rand_pos}' )"
      ],
      "execution_count": 40,
      "outputs": [
        {
          "output_type": "stream",
          "text": [
            "Blocks with errors:\n",
            "b6:10011110, position:4\n",
            "b7:11110010, position:6\n",
            "b4:00100011, position:3\n"
          ],
          "name": "stdout"
        }
      ]
    },
    {
      "cell_type": "code",
      "metadata": {
        "id": "4_saDap1ob1q"
      },
      "source": [
        "# Step 3\n",
        "def HammingDecode2(bitstring):\n",
        "  # Get data bits\n",
        "  n = 1\n",
        "  bits = [bitstring[i:i+n] for i in range(0, len(bitstring), n)]\n",
        "  # Converting bits to integer\n",
        "  for i in range(0, len(bits)):\n",
        "    bits[i] = int(bits[i])\n",
        "  tester = ''\n",
        "  # output\n",
        "  print(f'{bitstring}:')\n",
        "  p1 = bits[3]^bits[5]^bits[7]\n",
        "  if p1 == bits[1]:\n",
        "    checker = 'correct'\n",
        "    sym = 'o'\n",
        "  else:\n",
        "    checker = 'incorrect'\n",
        "    sym = 'x'\n",
        "  tester += sym\n",
        "  print(f'p1: b3+b5+b7 = {bits[3]}+{bits[5]}+{bits[7]} = {p1} {checker}')\n",
        "\n",
        "  p2 = bits[3]^bits[6]^bits[7]\n",
        "  if p2 == bits[2]:\n",
        "    checker = 'correct'\n",
        "    sym = 'o'\n",
        "  else:\n",
        "    checker = 'incorrect'\n",
        "    sym = 'x'\n",
        "  tester += sym\n",
        "  print(f'p2: b3+b6+b7 = {bits[3]}+{bits[6]}+{bits[7]} = {p2} {checker}')\n",
        "\n",
        "  p3 = bits[5]^bits[6]^bits[7]\n",
        "  if p3 == bits[4]:\n",
        "    checker = 'correct'\n",
        "    sym = 'o'\n",
        "  else:\n",
        "    checker = 'incorrect'\n",
        "    sym = 'x'\n",
        "  tester += sym\n",
        "  print(f'p3: b5+b6+b7 = {bits[5]}+{bits[6]}+{bits[7]} = {p3} {checker}')\n",
        "\n",
        "  p0 = bits[1]^bits[2]^bits[3]^bits[4]^bits[5]^bits[6]^bits[7]\n",
        "  if p0 == bits[0]:\n",
        "    checker = 'correct'\n",
        "  else:\n",
        "    checker = 'incorrect'  \n",
        "  print(f'p0: b1+b2+b3+b4+b5+b6+b7 = {bits[1]}+{bits[2]}+{bits[3]}+{bits[4]}+{bits[5]}+{bits[6]}+{bits[7]} = {p0} {checker}') \n",
        "  \n",
        "  #Error detection\n",
        "  final = tester + checker\n",
        "  if final == 'ooocorrect':\n",
        "    print('No error')\n",
        "    \n",
        "  else:\n",
        "    if tester == 'xxo':\n",
        "      pos_no = 3\n",
        "    elif tester == 'xox':\n",
        "      pos_no = 5\n",
        "    elif tester == 'oxx':\n",
        "      pos_no = 6\n",
        "    elif tester == 'xxx':\n",
        "      pos_no = 7\n",
        "    elif tester == 'xoo':\n",
        "      pos_no = 1\n",
        "    elif tester == 'oxo':\n",
        "      pos_no = 2\n",
        "    elif tester == 'oox':\n",
        "      pos_no = 4\n",
        "    else:\n",
        "      pos_no = 0\n",
        "\n",
        "    print(f'Error in position {pos_no}')\n",
        "    # correcting error\n",
        "    bits[pos_no] = bits[pos_no]^1\n",
        "    correct_bitstr = ''.join(map(str, bits))\n",
        "    print(f'Corrected bitstring: {correct_bitstr}')\n",
        "\n",
        "  arr = [bits[3], bits[5], bits[6], bits[7]]\n",
        "  dec_str = ''.join(map(str, arr))\n",
        "  print(f'Decoded bitstring: {dec_str}')\n",
        "  return dec_str\n"
      ],
      "execution_count": 41,
      "outputs": []
    },
    {
      "cell_type": "code",
      "metadata": {
        "colab": {
          "base_uri": "https://localhost:8080/"
        },
        "id": "R--0o5_CtF2c",
        "outputId": "7d1500d2-d173-40f4-abf0-10ad50e55de6"
      },
      "source": [
        "# Step 4\n",
        "decoded_seq74 = ''\n",
        "for i in range(0, len(blocks4)):\n",
        "  dec74 = HammingDecode2(blocks4[i])\n",
        "  decoded_seq74 = decoded_seq74 + dec74\n",
        "  print('----------')"
      ],
      "execution_count": 42,
      "outputs": [
        {
          "output_type": "stream",
          "text": [
            "11000011:\n",
            "p1: b3+b5+b7 = 0+0+1 = 1 correct\n",
            "p2: b3+b6+b7 = 0+1+1 = 0 correct\n",
            "p3: b5+b6+b7 = 0+1+1 = 0 correct\n",
            "p0: b1+b2+b3+b4+b5+b6+b7 = 1+0+0+0+0+1+1 = 1 correct\n",
            "No error\n",
            "Decoded bitstring: 0011\n",
            "----------\n",
            "00110011:\n",
            "p1: b3+b5+b7 = 1+0+1 = 0 correct\n",
            "p2: b3+b6+b7 = 1+1+1 = 1 correct\n",
            "p3: b5+b6+b7 = 0+1+1 = 0 correct\n",
            "p0: b1+b2+b3+b4+b5+b6+b7 = 0+1+1+0+0+1+1 = 0 correct\n",
            "No error\n",
            "Decoded bitstring: 1011\n",
            "----------\n",
            "00110011:\n",
            "p1: b3+b5+b7 = 1+0+1 = 0 correct\n",
            "p2: b3+b6+b7 = 1+1+1 = 1 correct\n",
            "p3: b5+b6+b7 = 0+1+1 = 0 correct\n",
            "p0: b1+b2+b3+b4+b5+b6+b7 = 0+1+1+0+0+1+1 = 0 correct\n",
            "No error\n",
            "Decoded bitstring: 1011\n",
            "----------\n",
            "00100011:\n",
            "p1: b3+b5+b7 = 0+0+1 = 1 incorrect\n",
            "p2: b3+b6+b7 = 0+1+1 = 0 incorrect\n",
            "p3: b5+b6+b7 = 0+1+1 = 0 correct\n",
            "p0: b1+b2+b3+b4+b5+b6+b7 = 0+1+0+0+0+1+1 = 1 incorrect\n",
            "Error in position 3\n",
            "Corrected bitstring: 00110011\n",
            "Decoded bitstring: 1011\n",
            "----------\n",
            "10101010:\n",
            "p1: b3+b5+b7 = 0+0+0 = 0 correct\n",
            "p2: b3+b6+b7 = 0+1+0 = 1 correct\n",
            "p3: b5+b6+b7 = 0+1+0 = 1 correct\n",
            "p0: b1+b2+b3+b4+b5+b6+b7 = 0+1+0+1+0+1+0 = 1 correct\n",
            "No error\n",
            "Decoded bitstring: 0010\n",
            "----------\n",
            "10011110:\n",
            "p1: b3+b5+b7 = 1+1+0 = 0 correct\n",
            "p2: b3+b6+b7 = 1+1+0 = 0 correct\n",
            "p3: b5+b6+b7 = 1+1+0 = 0 incorrect\n",
            "p0: b1+b2+b3+b4+b5+b6+b7 = 0+0+1+1+1+1+0 = 0 incorrect\n",
            "Error in position 4\n",
            "Corrected bitstring: 10010110\n",
            "Decoded bitstring: 1110\n",
            "----------\n",
            "11110010:\n",
            "p1: b3+b5+b7 = 1+0+0 = 1 correct\n",
            "p2: b3+b6+b7 = 1+1+0 = 0 incorrect\n",
            "p3: b5+b6+b7 = 0+1+0 = 1 incorrect\n",
            "p0: b1+b2+b3+b4+b5+b6+b7 = 1+1+1+0+0+1+0 = 0 incorrect\n",
            "Error in position 6\n",
            "Corrected bitstring: 11110000\n",
            "Decoded bitstring: 1000\n",
            "----------\n",
            "10101010:\n",
            "p1: b3+b5+b7 = 0+0+0 = 0 correct\n",
            "p2: b3+b6+b7 = 0+1+0 = 1 correct\n",
            "p3: b5+b6+b7 = 0+1+0 = 1 correct\n",
            "p0: b1+b2+b3+b4+b5+b6+b7 = 0+1+0+1+0+1+0 = 1 correct\n",
            "No error\n",
            "Decoded bitstring: 0010\n",
            "----------\n",
            "10010110:\n",
            "p1: b3+b5+b7 = 1+1+0 = 0 correct\n",
            "p2: b3+b6+b7 = 1+1+0 = 0 correct\n",
            "p3: b5+b6+b7 = 1+1+0 = 0 correct\n",
            "p0: b1+b2+b3+b4+b5+b6+b7 = 0+0+1+0+1+1+0 = 1 correct\n",
            "No error\n",
            "Decoded bitstring: 1110\n",
            "----------\n",
            "00110011:\n",
            "p1: b3+b5+b7 = 1+0+1 = 0 correct\n",
            "p2: b3+b6+b7 = 1+1+1 = 1 correct\n",
            "p3: b5+b6+b7 = 0+1+1 = 0 correct\n",
            "p0: b1+b2+b3+b4+b5+b6+b7 = 0+1+1+0+0+1+1 = 0 correct\n",
            "No error\n",
            "Decoded bitstring: 1011\n",
            "----------\n",
            "01101001:\n",
            "p1: b3+b5+b7 = 0+0+1 = 1 correct\n",
            "p2: b3+b6+b7 = 0+0+1 = 1 correct\n",
            "p3: b5+b6+b7 = 0+0+1 = 1 correct\n",
            "p0: b1+b2+b3+b4+b5+b6+b7 = 1+1+0+1+0+0+1 = 0 correct\n",
            "No error\n",
            "Decoded bitstring: 0001\n",
            "----------\n"
          ],
          "name": "stdout"
        }
      ]
    },
    {
      "cell_type": "code",
      "metadata": {
        "colab": {
          "base_uri": "https://localhost:8080/"
        },
        "id": "EfzVZ3-l9tCQ",
        "outputId": "20abe8a3-0534-402f-e0d6-9ba21c996d08"
      },
      "source": [
        "print(f'Decoded sequence: {decoded_seq74}')\n",
        "# open and read txt file\n",
        "with open('compressed.txt', encoding=\"utf8\") as file:\n",
        "    compr = file.read()\n",
        "print(f'Original: {compr}')\n",
        "\n",
        "if compr == decoded_seq74:\n",
        "  print('They match')\n",
        "else:\n",
        "  print('Do not match')"
      ],
      "execution_count": 43,
      "outputs": [
        {
          "output_type": "stream",
          "text": [
            "Decoded sequence: 00111011101110110010111010000010111010110001\n",
            "Original: 00111011101110110010111010000010111010110001\n",
            "They match\n"
          ],
          "name": "stdout"
        }
      ]
    }
  ]
}